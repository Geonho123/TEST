{
  "nbformat": 4,
  "nbformat_minor": 0,
  "metadata": {
    "colab": {
      "provenance": [],
      "toc_visible": true,
      "authorship_tag": "ABX9TyMbmVGOxQ5j3WljyDXQVVwG",
      "include_colab_link": true
    },
    "kernelspec": {
      "name": "python3",
      "display_name": "Python 3"
    },
    "language_info": {
      "name": "python"
    }
  },
  "cells": [
    {
      "cell_type": "markdown",
      "metadata": {
        "id": "view-in-github",
        "colab_type": "text"
      },
      "source": [
        "<a href=\"https://colab.research.google.com/github/Geonho123/TEST/blob/main/testing.ipynb\" target=\"_parent\"><img src=\"https://colab.research.google.com/assets/colab-badge.svg\" alt=\"Open In Colab\"/></a>"
      ]
    },
    {
      "cell_type": "markdown",
      "source": [
        "# CL1: Markdown practice\n",
        "Author: Geonho Lee (017345146)\n",
        "Last updated: 2025-08-25\n",
        "Purpose: Practice Markdown & basic Python in Colab.\n"
      ],
      "metadata": {
        "id": "H5D5Qw5fyAwL"
      }
    },
    {
      "cell_type": "code",
      "source": [
        "from google.colab import drive\n",
        "drive.mount('/content/drive')"
      ],
      "metadata": {
        "id": "ZWAJXm66zk3o"
      },
      "execution_count": null,
      "outputs": []
    },
    {
      "cell_type": "markdown",
      "source": [
        "## Markdown Basics\n",
        "**Bold text**  \n",
        "*Italic text*  \n",
        "- Bullet 1  \n",
        "- Bullet 2  \n",
        "1. Number 1  \n",
        "2. Number 2  \n",
        "\n",
        "[Google](https://www.google.com)\n",
        "\n",
        "`inline code`"
      ],
      "metadata": {
        "id": "TYQS3Ek6yLJK"
      }
    },
    {
      "cell_type": "markdown",
      "source": [
        "$\\frac{1}{2},\\ x_i,\\ x^2,\\ \\sum_{i=1}^{n} x_i,\\ \\infty$\n"
      ],
      "metadata": {
        "id": "k84Algy5y5kv"
      }
    }
  ]
}